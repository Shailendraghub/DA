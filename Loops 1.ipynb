{
 "cells": [
  {
   "cell_type": "code",
   "execution_count": null,
   "id": "88c89be6-fe55-41ff-9786-e58a4a1bbc77",
   "metadata": {},
   "outputs": [],
   "source": [
    "#while\n",
    "#for \n",
    "\n",
    "\n"
   ]
  },
  {
   "cell_type": "code",
   "execution_count": 4,
   "id": "facf9b43-a0b8-4da4-9163-28a5f5cabbf3",
   "metadata": {},
   "outputs": [
    {
     "name": "stdout",
     "output_type": "stream",
     "text": [
      "2\n",
      "4\n",
      "6\n",
      "8\n",
      "10\n",
      "12\n",
      "14\n",
      "16\n",
      "18\n",
      "20\n"
     ]
    }
   ],
   "source": [
    "for i in range(2,21,2):\n",
    "    print(i)\n",
    "    "
   ]
  },
  {
   "cell_type": "code",
   "execution_count": 10,
   "id": "bde53535-8b33-473a-8e2a-d0f27c2bb91f",
   "metadata": {},
   "outputs": [
    {
     "name": "stdin",
     "output_type": "stream",
     "text": [
      "enter a no: -9\n"
     ]
    },
    {
     "name": "stdout",
     "output_type": "stream",
     "text": [
      "negative\n"
     ]
    }
   ],
   "source": [
    "# Check if a number is positive, negative, or zero\n",
    "\n",
    "num=int(input(\"enter a no:\"))\n",
    "if(num>0):\n",
    "    print(\"positive\")\n",
    "elif(num<0):\n",
    "    print(\"negative\")\n",
    "else:\n",
    "    print(\"zero\")\n"
   ]
  },
  {
   "cell_type": "code",
   "execution_count": 79,
   "id": "136b1005-10ef-4d1b-b28e-53f28d2cdd2a",
   "metadata": {},
   "outputs": [
    {
     "name": "stdout",
     "output_type": "stream",
     "text": [
      "armstrong\n"
     ]
    }
   ],
   "source": [
    "n=153\n",
    "temp=n\n",
    "sum=0\n",
    "while(n>0):\n",
    "    rem=n%10\n",
    "    sum=sum+rem*rem*rem\n",
    "    n=n//10\n",
    "if(temp==sum):\n",
    "    print(\"armstrong\")\n",
    "else:\n",
    "    print(\"not\")\n"
   ]
  },
  {
   "cell_type": "code",
   "execution_count": 14,
   "id": "7ffcb6e7-5e71-44fe-8ea1-a36406565038",
   "metadata": {},
   "outputs": [
    {
     "name": "stdin",
     "output_type": "stream",
     "text": [
      "enter a no: 10\n",
      "enter a no: 20\n",
      "enter a no: 30\n"
     ]
    },
    {
     "name": "stdout",
     "output_type": "stream",
     "text": [
      "c is largest\n"
     ]
    }
   ],
   "source": [
    "# 2. Find the largest of three numbers\n",
    "a=int(input(\"enter a no:\"))\n",
    "b=int(input(\"enter a no:\"))\n",
    "c=int(input(\"enter a no:\"))\n",
    "if a>b and a>c:\n",
    "    print(\"a is largest\")\n",
    "elif b>a and b>c:\n",
    "    print(\"b is largest\")\n",
    "else:\n",
    "    print(\"c is largest\")"
   ]
  },
  {
   "cell_type": "code",
   "execution_count": 20,
   "id": "951f55b6-4f28-432b-8f9a-579086818b53",
   "metadata": {},
   "outputs": [
    {
     "name": "stdin",
     "output_type": "stream",
     "text": [
      "enter a year  2023\n"
     ]
    },
    {
     "name": "stdout",
     "output_type": "stream",
     "text": [
      "not\n"
     ]
    }
   ],
   "source": [
    "# 3. Check if a year is a leap year\n",
    "year=int (input(\"enter a year \"))\n",
    "if year%4==0 and year%100!=0 or year%400==0:\n",
    "    print(\"leap year \")\n",
    "else:\n",
    "    print(\"not\")"
   ]
  },
  {
   "cell_type": "code",
   "execution_count": 37,
   "id": "fd51ed20-23d0-47a6-892e-7c23a51d7fa1",
   "metadata": {},
   "outputs": [
    {
     "name": "stdin",
     "output_type": "stream",
     "text": [
      "enter a string: X\n"
     ]
    },
    {
     "name": "stdout",
     "output_type": "stream",
     "text": [
      "consonents\n"
     ]
    }
   ],
   "source": [
    "# 4. Check if a character is a vowel or consonant\n",
    "char=input(\"enter a string:\")\n",
    "if (char =='a' or char =='A') or (char=='e' or char =='E')or (char=='i' or char =='I') or (char=='o' or char =='O') or (char=='u' or char =='U'):\n",
    "    print(\"vowel\")\n",
    "else:\n",
    "    print(\"consonents\")"
   ]
  },
  {
   "cell_type": "code",
   "execution_count": 48,
   "id": "c3270c08-9e48-430d-b915-cd0a95e083ff",
   "metadata": {},
   "outputs": [
    {
     "name": "stdin",
     "output_type": "stream",
     "text": [
      "enter a string: e\n"
     ]
    },
    {
     "name": "stdout",
     "output_type": "stream",
     "text": [
      "vowel\n"
     ]
    }
   ],
   "source": [
    "# 4. Check if a character is a vowel or consonant\n",
    "char=input(\"enter a string:\")\n",
    "if char in 'aeiouAEIOU':\n",
    "    print(\"vowel\")\n",
    "else:\n",
    "    print(\"consonents\")"
   ]
  },
  {
   "cell_type": "code",
   "execution_count": 39,
   "id": "96410765-ba14-4812-bf22-b27a156e8233",
   "metadata": {},
   "outputs": [
    {
     "name": "stdin",
     "output_type": "stream",
     "text": [
      "enter a no: 55\n"
     ]
    },
    {
     "name": "stdout",
     "output_type": "stream",
     "text": [
      "55 number is divisible by 5 and 11\n"
     ]
    }
   ],
   "source": [
    "# 8. Check if a number is divisible by both 5 and 11\n",
    "num=int(input(\"enter a no:\"))\n",
    "if num%5==0 and num%11==0:\n",
    "   print(num,\"number is divisible by 5 and 11\")\n",
    "else:\n",
    "    print(num,\"number is not divisible by 5 and 11\")"
   ]
  },
  {
   "cell_type": "code",
   "execution_count": null,
   "id": "041afa1c-6d2d-4426-9342-21d4f0a35971",
   "metadata": {},
   "outputs": [],
   "source": [
    "#10 \n",
    "# 20 \n",
    "otherwise condition not match \n"
   ]
  },
  {
   "cell_type": "code",
   "execution_count": 63,
   "id": "b3533a05-5be5-42ee-9af1-144be8025f65",
   "metadata": {},
   "outputs": [
    {
     "name": "stdout",
     "output_type": "stream",
     "text": [
      "even 0\n",
      "odd 1\n",
      "even 2\n",
      "odd 3\n",
      "even 4\n",
      "odd 5\n",
      "even 6\n",
      "odd 7\n",
      "even 8\n"
     ]
    }
   ],
   "source": [
    "for x in range(0,9):\n",
    "    if(x%2==0):\n",
    "        print(\"even\",x)\n",
    "    else:\n",
    "        print(\"odd\",x)"
   ]
  },
  {
   "cell_type": "code",
   "execution_count": 52,
   "id": "2d4170a1-32cd-45b7-96d0-0db18ae9b660",
   "metadata": {},
   "outputs": [
    {
     "name": "stdout",
     "output_type": "stream",
     "text": [
      "50 greater then 20\n",
      "49 greater then 20\n",
      "48 greater then 20\n",
      "47 greater then 20\n",
      "46 greater then 20\n",
      "45 greater then 20\n",
      "44 greater then 20\n",
      "43 greater then 20\n",
      "42 greater then 20\n",
      "41 greater then 20\n",
      "40 greater then 20\n",
      "39 greater then 20\n",
      "38 greater then 20\n",
      "37 greater then 20\n",
      "36 greater then 20\n",
      "35 greater then 20\n",
      "34 greater then 20\n",
      "33 greater then 20\n",
      "32 greater then 20\n",
      "31 greater then 20\n",
      "30 greater then 20\n",
      "29 greater then 20\n",
      "28 greater then 20\n",
      "27 greater then 20\n",
      "26 greater then 20\n"
     ]
    }
   ],
   "source": [
    "for i in range(50,25,-1):\n",
    "    if(i>20):\n",
    "        print(i,\"greater then 20\")\n",
    "    elif(i>10):\n",
    "        print(i,\"grater then 10\")\n",
    "    else:\n",
    "        print(\"condition false\")"
   ]
  },
  {
   "cell_type": "code",
   "execution_count": 65,
   "id": "0919c15f-1970-4cd8-92a5-ec0b38ca72d1",
   "metadata": {},
   "outputs": [
    {
     "name": "stdout",
     "output_type": "stream",
     "text": [
      "10\n"
     ]
    }
   ],
   "source": [
    "#to get the sum of 50 natural no\n",
    "total=0\n",
    "for x in range(1,5):\n",
    "    total=total+x\n",
    "print(total)"
   ]
  },
  {
   "cell_type": "code",
   "execution_count": null,
   "id": "323e51d2-f897-4900-bd6c-3e10cf8812d5",
   "metadata": {},
   "outputs": [],
   "source": [
    "#get the sum of all the even no. from  80 to 35"
   ]
  },
  {
   "cell_type": "code",
   "execution_count": 57,
   "id": "dd588a02-1e66-401f-82e1-cc1efc643358",
   "metadata": {},
   "outputs": [
    {
     "name": "stdout",
     "output_type": "stream",
     "text": [
      "1334\n"
     ]
    }
   ],
   "source": [
    "total=0\n",
    "for i in range(80,35,-1):\n",
    "    if(i%2==0):\n",
    "        total=total+i\n",
    "print(total)\n"
   ]
  },
  {
   "cell_type": "code",
   "execution_count": 84,
   "id": "1e79f690-2d7c-4b0e-9122-3d0fc8026e41",
   "metadata": {},
   "outputs": [
    {
     "name": "stdout",
     "output_type": "stream",
     "text": [
      "not prime\n"
     ]
    }
   ],
   "source": [
    "# prime number or not\n",
    "primeno=10\n",
    "isprime =True\n",
    "for divide in range(2,primeno):\n",
    "    if(primeno%divide==0):\n",
    "        isprime=False\n",
    "if(isprime==True):\n",
    "    print(\"prime number\")\n",
    "else:\n",
    "    print(\"not prime\")\n",
    "    "
   ]
  },
  {
   "cell_type": "code",
   "execution_count": 61,
   "id": "cdc0a5da-bc64-4ece-aaaa-6e65e9c44911",
   "metadata": {},
   "outputs": [
    {
     "name": "stdout",
     "output_type": "stream",
     "text": [
      "before divide 134\n",
      "after divide 13\n",
      "before divide 13\n",
      "after divide 1\n",
      "before divide 1\n",
      "after divide 0\n",
      "total 8\n"
     ]
    }
   ],
   "source": [
    "# sum of digit \n",
    "\n",
    "x=134\n",
    "i=x\n",
    "reminder=0\n",
    "while(i>0):\n",
    "    print(\"before divide\",i)\n",
    "    reminder +=i%10\n",
    "    i=i//10\n",
    "    print(\"after divide\",i)\n",
    "print(\"total\",reminder)\n",
    "\n"
   ]
  },
  {
   "cell_type": "code",
   "execution_count": null,
   "id": "038ba75c-b90a-4e7e-8194-eb7742b61ef0",
   "metadata": {},
   "outputs": [],
   "source": [
    "#all the factors of number ...\n",
    "\n",
    "x=12\n",
    "rem=0\n",
    "while(i<=12):\n",
    "    rem=i%x\n"
   ]
  },
  {
   "cell_type": "code",
   "execution_count": null,
   "id": "dfef59fd-3df6-4e3a-8034-30ce127844cd",
   "metadata": {},
   "outputs": [],
   "source": [
    "n=153\n",
    "while(n>0):\n",
    "    rem=n%10\n",
    "    sum=rem*rem*rem\n",
    "        n//10\n"
   ]
  }
 ],
 "metadata": {
  "kernelspec": {
   "display_name": "Python 3 (ipykernel)",
   "language": "python",
   "name": "python3"
  },
  "language_info": {
   "codemirror_mode": {
    "name": "ipython",
    "version": 3
   },
   "file_extension": ".py",
   "mimetype": "text/x-python",
   "name": "python",
   "nbconvert_exporter": "python",
   "pygments_lexer": "ipython3",
   "version": "3.10.11"
  }
 },
 "nbformat": 4,
 "nbformat_minor": 5
}
