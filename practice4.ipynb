{
 "cells": [
  {
   "cell_type": "code",
   "execution_count": 1,
   "id": "f2f900b8-b388-422f-bfac-5763cc9ecb57",
   "metadata": {},
   "outputs": [
    {
     "name": "stdout",
     "output_type": "stream",
     "text": [
      "2406332105232\n"
     ]
    }
   ],
   "source": [
    "x=10\n",
    "print(id(x))"
   ]
  },
  {
   "cell_type": "code",
   "execution_count": 4,
   "id": "25a49ec6-d0ba-4104-abee-215338fc880c",
   "metadata": {},
   "outputs": [
    {
     "name": "stdout",
     "output_type": "stream",
     "text": [
      "2406332105232\n"
     ]
    }
   ],
   "source": [
    "y=x\n",
    "print(id(y))"
   ]
  },
  {
   "cell_type": "code",
   "execution_count": 6,
   "id": "1dab5f77-36b2-43d7-aeb5-8cf93c47b66c",
   "metadata": {},
   "outputs": [
    {
     "name": "stdout",
     "output_type": "stream",
     "text": [
      "10 2406332105232\n",
      "y: 10 2406332105232\n"
     ]
    }
   ],
   "source": [
    "x=10\n",
    "print(x,id(x))\n",
    "y=x\n",
    "print(\"y:\",y,id(y))"
   ]
  },
  {
   "cell_type": "code",
   "execution_count": 7,
   "id": "32e2622b-b782-446c-b64c-1005f6dd547e",
   "metadata": {},
   "outputs": [
    {
     "name": "stdout",
     "output_type": "stream",
     "text": [
      "2406332105392 2406332105232\n"
     ]
    }
   ],
   "source": [
    "y=15\n",
    "print(id(y),id(x))"
   ]
  },
  {
   "cell_type": "code",
   "execution_count": 9,
   "id": "12059652-fe8a-4d7d-9b02-55bd55131281",
   "metadata": {},
   "outputs": [
    {
     "data": {
      "text/plain": [
       "False"
      ]
     },
     "execution_count": 9,
     "metadata": {},
     "output_type": "execute_result"
    }
   ],
   "source": [
    "x=10\n",
    "x==20"
   ]
  },
  {
   "cell_type": "code",
   "execution_count": 24,
   "id": "a9ffeaaa-445a-41a2-bcdf-c593e4126b46",
   "metadata": {},
   "outputs": [
    {
     "name": "stdout",
     "output_type": "stream",
     "text": [
      "hello world\n",
      "5\n",
      "bye\n",
      "221\n",
      "hello \"hey\" klgfng\n"
     ]
    }
   ],
   "source": [
    "\n",
    "\"\"\"\n",
    "jhjbm\n",
    "bhj\n",
    "\"\"\"\n",
    "print(\"hello world\")\n",
    "print(5)\n",
    "print(\"bye\")\n",
    "print(17*13)\n",
    "print(\"hello \\\"hey\\\" klgfng\")"
   ]
  },
  {
   "cell_type": "code",
   "execution_count": 25,
   "id": "991a2289-9714-418b-925f-9eea34b3689f",
   "metadata": {},
   "outputs": [
    {
     "name": "stdout",
     "output_type": "stream",
     "text": [
      "hello-shailendra-agarwal\n"
     ]
    }
   ],
   "source": [
    "print(\"hello\",\"shailendra\",\"agarwal\",sep=\"-\")"
   ]
  },
  {
   "cell_type": "code",
   "execution_count": 12,
   "id": "c1b52b0b-ffe3-49c0-8c6b-5b0ca1c2c439",
   "metadata": {},
   "outputs": [
    {
     "data": {
      "text/plain": [
       "(10+0j)"
      ]
     },
     "execution_count": 12,
     "metadata": {},
     "output_type": "execute_result"
    }
   ],
   "source": [
    "a1=complex(8+2)\n",
    "a1\n",
    "herry=10\n",
    "a=\"herry\"\n",
    "a\n",
    "type(a1)\n",
    "a1"
   ]
  },
  {
   "cell_type": "code",
   "execution_count": 20,
   "id": "ac070709-9bbe-4b41-9a44-06876cf24f23",
   "metadata": {},
   "outputs": [
    {
     "name": "stdout",
     "output_type": "stream",
     "text": [
      "7\n",
      "1\n",
      "12\n",
      "1.3333333333333333\n",
      "1\n",
      "64\n",
      "1\n"
     ]
    }
   ],
   "source": [
    "a=4\n",
    "b=3\n",
    "a1=a+b\n",
    "b1=a-b\n",
    "c1=a*b\n",
    "d1=a/b\n",
    "e1=a//b\n",
    "f1=a**b\n",
    "g1=a%b\n",
    "print(a1)\n",
    "print(b1)\n",
    "print(c1)\n",
    "print(d1)\n",
    "print(e1)\n",
    "print(f1)\n",
    "print(g1)\n"
   ]
  },
  {
   "cell_type": "code",
   "execution_count": 1,
   "id": "9d157561-12ab-4f27-b08f-50fe42f91ee1",
   "metadata": {},
   "outputs": [
    {
     "data": {
      "text/plain": [
       "3"
      ]
     },
     "execution_count": 1,
     "metadata": {},
     "output_type": "execute_result"
    }
   ],
   "source": [
    "#explicit  type conversion \n",
    "a=\"1\"\n",
    "b=\"2\"\n",
    "c=int(a)+int(b)\n",
    "c"
   ]
  },
  {
   "cell_type": "code",
   "execution_count": 4,
   "id": "e1047bc5-db93-4187-9961-b4cc55cdcfe7",
   "metadata": {},
   "outputs": [
    {
     "data": {
      "text/plain": [
       "10.8"
      ]
     },
     "execution_count": 4,
     "metadata": {},
     "output_type": "execute_result"
    }
   ],
   "source": [
    " #implicit type conversion\n",
    "\n",
    "a=1.8\n",
    "b=9\n",
    "c=a+b\n",
    "c"
   ]
  },
  {
   "cell_type": "code",
   "execution_count": 8,
   "id": "a50eb9d5-b71c-4966-afe3-c6e809bddd02",
   "metadata": {},
   "outputs": [
    {
     "name": "stdin",
     "output_type": "stream",
     "text": [
      "enter first no: 10\n",
      "enter second no: 20\n"
     ]
    },
    {
     "data": {
      "text/plain": [
       "30"
      ]
     },
     "execution_count": 8,
     "metadata": {},
     "output_type": "execute_result"
    }
   ],
   "source": [
    "a=int(input(\"enter first no:\"))\n",
    "b=int(input(\"enter second no:\"))\n",
    "c=a+b\n",
    "c"
   ]
  },
  {
   "cell_type": "code",
   "execution_count": null,
   "id": "8c45aa4b-a6b3-47b1-9836-fb49f60c7dc1",
   "metadata": {},
   "outputs": [],
   "source": []
  },
  {
   "cell_type": "code",
   "execution_count": 16,
   "id": "46b853fe-f9f4-4751-a4b0-d691d616f4f0",
   "metadata": {},
   "outputs": [
    {
     "name": "stdout",
     "output_type": "stream",
     "text": [
      "hello shailendra agarwal\n",
      "e\n"
     ]
    }
   ],
   "source": [
    "a=\"shailendra\"\n",
    "b=\"agarwal\"\n",
    "print(\"hello \"+ a,b)\n",
    "print(a[5])"
   ]
  },
  {
   "cell_type": "code",
   "execution_count": null,
   "id": "69ebb173-f365-4a7b-8e98-66bcedba2871",
   "metadata": {},
   "outputs": [],
   "source": []
  },
  {
   "cell_type": "code",
   "execution_count": 38,
   "id": "32fa5592-2f9a-4e4c-94e8-220bd524c14e",
   "metadata": {},
   "outputs": [
    {
     "name": "stdout",
     "output_type": "stream",
     "text": [
      "ar\n"
     ]
    }
   ],
   "source": [
    "apple=\"harry\" \n",
    "# is shailendra agarwal\n",
    "# i live in jaipur \n",
    "# i have completed bca'''\n",
    "print(apple[-4:-2])\n"
   ]
  },
  {
   "cell_type": "code",
   "execution_count": 83,
   "id": "4335b9f0-e46d-42bd-8ac3-919640ae2f09",
   "metadata": {},
   "outputs": [
    {
     "name": "stdout",
     "output_type": "stream",
     "text": [
      "2\n",
      "True\n",
      "0\n"
     ]
    }
   ],
   "source": [
    "a=\"lllllllapple\"\n",
    "\n",
    "print(a.count(\"p\"))\n",
    "print(a.endswith(\"e\"))\n",
    "print(a.find(\"l\"))"
   ]
  },
  {
   "cell_type": "code",
   "execution_count": 100,
   "id": "fd6fce97-b62b-48b9-a153-9ea8f9316fa5",
   "metadata": {},
   "outputs": [
    {
     "name": "stdin",
     "output_type": "stream",
     "text": [
      "enter a no: 43\n"
     ]
    },
    {
     "name": "stdout",
     "output_type": "stream",
     "text": [
      "odd\n"
     ]
    }
   ],
   "source": [
    "x=int(input(\"enter a no:\"))\n",
    "if(x%2==0):\n",
    "      print(\"even\")\n",
    "else:\n",
    "      print(\"odd\")"
   ]
  },
  {
   "cell_type": "markdown",
   "id": "d531cb64-ff11-4c81-a56e-b58d60e777ad",
   "metadata": {},
   "source": [
    "num=int(input(\"enter a no:\"))\n",
    "if(num>10):\n",
    "    print(\"bda\")\n",
    "elif(num<10):\n",
    "    print(\"chota\")\n",
    "else:\n",
    "    print(\"barabar\")"
   ]
  },
  {
   "cell_type": "code",
   "execution_count": 4,
   "id": "37c8dad1-053a-474a-9e18-40f6042824df",
   "metadata": {},
   "outputs": [
    {
     "name": "stdin",
     "output_type": "stream",
     "text": [
      "enter a no: 11\n"
     ]
    },
    {
     "name": "stdout",
     "output_type": "stream",
     "text": [
      "bda\n",
      "happy\n"
     ]
    }
   ],
   "source": [
    "num=int(input(\"enter a no:\"))\n",
    "if(num>10):\n",
    "    print(\"bda\")\n",
    "elif(num<10):\n",
    "    print(\"chota\")\n",
    "else:\n",
    "    print(\"barabar\")\n",
    "print(\"happy\")"
   ]
  },
  {
   "cell_type": "code",
   "execution_count": 4,
   "id": "24fefee0-aaec-4228-8a55-52c390671460",
   "metadata": {},
   "outputs": [
    {
     "name": "stdin",
     "output_type": "stream",
     "text": [
      "enter time 01\n"
     ]
    },
    {
     "name": "stdout",
     "output_type": "stream",
     "text": [
      "good evening\n"
     ]
    }
   ],
   "source": [
    "time= int(input(\"enter time\"))\n",
    "if(time>12):\n",
    "    print(\"good morning\")\n",
    "elif(time==12):\n",
    "    print(\"goof afternoon\")\n",
    "else:\n",
    "    print(\"good evening\")"
   ]
  },
  {
   "cell_type": "code",
   "execution_count": 15,
   "id": "7c6a03d4-be54-4bd3-83ab-4b01e067cfc2",
   "metadata": {},
   "outputs": [
    {
     "name": "stdout",
     "output_type": "stream",
     "text": [
      "21:15\n",
      "good afternoon\n"
     ]
    }
   ],
   "source": [
    "import time \n",
    "timestamp = time.strftime('%H:%M')\n",
    "print(timestamp)\n",
    "\n",
    "if(timestamp<12:00):\n",
    "    print(\"good morning\")\n",
    "elif(timestamp>''):\n",
    "    print(\"good afternoon\")\n",
    "else:\n",
    "    print(\"good evening\")"
   ]
  },
  {
   "cell_type": "code",
   "execution_count": 13,
   "id": "0614266b-a217-440f-a059-5ad23c7d6b88",
   "metadata": {},
   "outputs": [
    {
     "name": "stdout",
     "output_type": "stream",
     "text": [
      "21:14\n",
      "Good evening\n"
     ]
    }
   ],
   "source": [
    "import time \n",
    "timestamp = time.strftime('%H:%M')\n",
    "print(timestamp)\n",
    "if timestamp < '12:00':\n",
    "    print(\"Good morning\")\n",
    "elif timestamp < '18:00':\n",
    "    print(\"Good afternoon\")\n",
    "else:\n",
    "    print(\"Good evening\")\n"
   ]
  },
  {
   "cell_type": "code",
   "execution_count": 4,
   "id": "3813474a-98cb-4bdc-87b7-e2286e903f89",
   "metadata": {},
   "outputs": [
    {
     "name": "stdin",
     "output_type": "stream",
     "text": [
      "enter the value of x: 0\n"
     ]
    },
    {
     "name": "stdout",
     "output_type": "stream",
     "text": [
      "x is zero\n"
     ]
    }
   ],
   "source": [
    "x=int(input(\"enter the value of x:\"))\n",
    "match x:\n",
    "        case 0:\n",
    "            print(\"x is zero\")\n",
    "        case 1:\n",
    "            print(\"x is 4\")\n",
    "        case _ :\n",
    "            print(x)\n"
   ]
  },
  {
   "cell_type": "code",
   "execution_count": 9,
   "id": "415a9172-18bd-45ac-9b8e-031c92c561ff",
   "metadata": {},
   "outputs": [
    {
     "name": "stdout",
     "output_type": "stream",
     "text": [
      "shailendra"
     ]
    }
   ],
   "source": [
    "name =\"shailendra\"\n",
    "for i in name:\n",
    "    print(i,end=\"\")"
   ]
  },
  {
   "cell_type": "code",
   "execution_count": 10,
   "id": "407ac736-bcb3-4e81-ae17-b507360547c5",
   "metadata": {},
   "outputs": [
    {
     "name": "stdout",
     "output_type": "stream",
     "text": [
      "red\n",
      "green\n",
      "blue\n"
     ]
    }
   ],
   "source": [
    "colors=[\"red\",\"green\",\"blue\"]\n",
    "for color in colors:\n",
    "    print(color)"
   ]
  },
  {
   "cell_type": "code",
   "execution_count": 14,
   "id": "4370d462-0b29-46fe-bc82-8ff697e37043",
   "metadata": {},
   "outputs": [
    {
     "name": "stdout",
     "output_type": "stream",
     "text": [
      "5\n",
      "6\n",
      "7\n",
      "8\n",
      "9\n",
      "10\n"
     ]
    }
   ],
   "source": [
    "for k in range(1,7):\n",
    "    print(k+4)"
   ]
  },
  {
   "cell_type": "code",
   "execution_count": 22,
   "id": "fdad4a1d-6f6b-4a2f-bec6-cb4194dedc84",
   "metadata": {},
   "outputs": [
    {
     "name": "stdout",
     "output_type": "stream",
     "text": [
      "2\n",
      "4\n",
      "6\n",
      "8\n",
      "10\n",
      "12\n",
      "14\n",
      "16\n",
      "18\n",
      "20\n"
     ]
    }
   ],
   "source": [
    "for k in range(2,21,2):\n",
    "    print(k)"
   ]
  },
  {
   "cell_type": "code",
   "execution_count": 9,
   "id": "f156b3fc-41b8-483c-9b9f-425fdd5adf02",
   "metadata": {},
   "outputs": [
    {
     "name": "stdout",
     "output_type": "stream",
     "text": [
      "pallindrom\n"
     ]
    }
   ],
   "source": [
    "n=121\n",
    "sum=0\n",
    "temp=n\n",
    "while(n>0):\n",
    "    rem=n%10\n",
    "    sum=sum*10+rem\n",
    "    n=n//10\n",
    "if(temp==sum):\n",
    "    print(\"pallindrom\")\n",
    "else:\n",
    "    print(\"not\")"
   ]
  },
  {
   "cell_type": "code",
   "execution_count": 11,
   "id": "33cb2635-977a-44e4-a59f-6906e6db165c",
   "metadata": {},
   "outputs": [
    {
     "name": "stdout",
     "output_type": "stream",
     "text": [
      "not\n"
     ]
    }
   ],
   "source": [
    "n=151\n",
    "sum=0\n",
    "temp=n\n",
    "while(n>0):\n",
    "    rem=n%10\n",
    "    sum=sum+rem*rem*rem\n",
    "    n=n//10\n",
    "if(temp==sum):\n",
    "    print(\"armstrong\")\n",
    "else:\n",
    "    print(\"not\")\n"
   ]
  },
  {
   "cell_type": "code",
   "execution_count": 14,
   "id": "5fd75974-3469-475a-bfb1-419fd458d1d8",
   "metadata": {},
   "outputs": [
    {
     "name": "stdout",
     "output_type": "stream",
     "text": [
      "0\n",
      "1\n",
      "1\n",
      "2\n",
      "3\n",
      "5\n",
      "8\n",
      "13\n",
      "21\n",
      "34\n",
      "55\n"
     ]
    }
   ],
   "source": [
    "n1=0\n",
    "n2=1\n",
    "n=11\n",
    "print(n1)\n",
    "print(n2)\n",
    "for i in range(2,n):\n",
    "    n3=n1+n2\n",
    "    print(n3)\n",
    "    n1=n2\n",
    "\n",
    "    n2=n3"
   ]
  },
  {
   "cell_type": "code",
   "execution_count": 9,
   "id": "3c5fed74-443c-4120-8c28-50dc6540a3a4",
   "metadata": {},
   "outputs": [
    {
     "name": "stdin",
     "output_type": "stream",
     "text": [
      "enter a no: 12\n"
     ]
    },
    {
     "name": "stdout",
     "output_type": "stream",
     "text": [
      "12\n",
      "11\n",
      "hello\n"
     ]
    }
   ],
   "source": [
    "count=int(input(\"enter a no:\"))\n",
    "while(count>10):\n",
    "    print(count)\n",
    "    count=count-1\n",
    "else:\n",
    "    print(\"hello\")"
   ]
  },
  {
   "cell_type": "code",
   "execution_count": 32,
   "id": "d3e8005d-2a81-46f6-a77e-89b37172cf2c",
   "metadata": {},
   "outputs": [
    {
     "name": "stdout",
     "output_type": "stream",
     "text": [
      "5 x  0 = 5\n",
      "5 x  1 = 10\n",
      "5 x  2 = 15\n",
      "5 x  3 = 20\n",
      "5 x  4 = 25\n",
      "5 x  5 = 30\n",
      "5 x  6 = 35\n",
      "5 x  7 = 40\n",
      "5 x  8 = 45\n",
      "5 x  9 = 50\n",
      "5 x  10 = 55\n"
     ]
    }
   ],
   "source": [
    "for i in range(11):\n",
    "    print(\"5 x \",i,\"=\",5 *(i+1))\n"
   ]
  },
  {
   "cell_type": "code",
   "execution_count": 34,
   "id": "4593692e-66b9-40e2-aa5b-d74b1e6363bf",
   "metadata": {},
   "outputs": [
    {
     "name": "stdout",
     "output_type": "stream",
     "text": [
      "5 x  0 = 5\n",
      "5 x  1 = 10\n",
      "5 x  2 = 15\n",
      "5 x  3 = 20\n",
      "5 x  4 = 25\n",
      "5 x  5 = 30\n",
      "5 x  6 = 35\n",
      "5 x  7 = 40\n",
      "this is a break statement\n"
     ]
    }
   ],
   "source": [
    "#break statement uses:- \n",
    "for i in range(11):\n",
    "    if(i==8):\n",
    "        break\n",
    "    print(\"5 x \",i,\"=\",5 *(i+1))\n",
    "print(\"this is a break statement\")"
   ]
  },
  {
   "cell_type": "code",
   "execution_count": 37,
   "id": "0b36851b-8721-4689-aef1-f96ac05bbba0",
   "metadata": {},
   "outputs": [
    {
     "name": "stdout",
     "output_type": "stream",
     "text": [
      "5 x  1 = 5\n",
      "5 x  2 = 10\n",
      "5 x  3 = 15\n",
      "5 x  4 = 20\n",
      "5 x  5 = 25\n",
      "5 x  6 = 30\n",
      "5 x  7 = 35\n",
      "5 x  8 = 40\n",
      "5 x  10 = 50\n",
      "5 x  11 = 55\n",
      "5 x  12 = 60\n",
      "this is a break statement\n"
     ]
    }
   ],
   "source": [
    "#break statement uses:- \n",
    "for i in range(12):\n",
    "    if(i==8):\n",
    "        continue\n",
    "    print(\"5 x \",i+1,\"=\",5 *(i+1))\n",
    "print(\"this is a break statement\")"
   ]
  },
  {
   "cell_type": "code",
   "execution_count": 31,
   "id": "0715d3b9-d95a-45aa-bdc2-ac40a1355944",
   "metadata": {},
   "outputs": [
    {
     "name": "stdout",
     "output_type": "stream",
     "text": [
      "first  is greater\n"
     ]
    }
   ],
   "source": [
    "# first=int(input(\"enter a frist no:\"))\n",
    "# second=int(input(\"enter second no:\"))\n",
    "def add(first,second):\n",
    "    if(first>second):\n",
    "        print(\"first  is greater\")\n",
    "    else:\n",
    "        print(\"second is greater\")\n",
    "add(20,10)\n"
   ]
  },
  {
   "cell_type": "code",
   "execution_count": 42,
   "id": "3efe4840-5a83-486d-b25b-dd6eb6e99c56",
   "metadata": {},
   "outputs": [
    {
     "name": "stdout",
     "output_type": "stream",
     "text": [
      "the average of: 5\n"
     ]
    }
   ],
   "source": [
    "def average(a=9,b=1):\n",
    "    print(\"the average of:\" ,(a+b)//2)\n",
    "\n",
    "#default argument \n",
    "#average(a=5)\n",
    "average()"
   ]
  },
  {
   "cell_type": "code",
   "execution_count": 56,
   "id": "7ffd9ef2-1b0f-4295-8399-7b50d5bcc4df",
   "metadata": {},
   "outputs": [
    {
     "name": "stdin",
     "output_type": "stream",
     "text": [
      "enter a no: 5\n"
     ]
    },
    {
     "name": "stdout",
     "output_type": "stream",
     "text": [
      "odd\n"
     ]
    }
   ],
   "source": [
    "def evenodd():\n",
    "    x=int(input(\"enter a no:\"))\n",
    "    if(x%2==0):\n",
    "        print(\"even\")\n",
    "    else:\n",
    "        print(\"odd\")\n",
    "evenodd()\n",
    "    "
   ]
  },
  {
   "cell_type": "code",
   "execution_count": 64,
   "id": "326730da-353a-43ef-9795-d1284c0ed3dd",
   "metadata": {},
   "outputs": [
    {
     "name": "stdin",
     "output_type": "stream",
     "text": [
      "Enter a number:  5\n"
     ]
    },
    {
     "data": {
      "text/plain": [
       "15"
      ]
     },
     "execution_count": 64,
     "metadata": {},
     "output_type": "execute_result"
    }
   ],
   "source": [
    "n = int(input(\"Enter a number: \"))\n",
    "sum = 0\n",
    "for i in range(n + 1):\n",
    "    sum += i\n",
    "sum"
   ]
  },
  {
   "cell_type": "code",
   "execution_count": 69,
   "id": "9dad0b09-ed2c-4332-a4cd-8db634d451b5",
   "metadata": {},
   "outputs": [
    {
     "name": "stdout",
     "output_type": "stream",
     "text": [
      "pallindrom\n"
     ]
    }
   ],
   "source": [
    "n=121\n",
    "temp=n\n",
    "sum=0\n",
    "while(n>0):\n",
    "    rem=n%10\n",
    "    sum=sum*10+rem\n",
    "    n=n//10\n",
    "if(temp==sum):\n",
    "    print(\"pallindrom\")\n",
    "else:\n",
    "    print(\"not pallindrom\")\n",
    "    \n"
   ]
  },
  {
   "cell_type": "code",
   "execution_count": 71,
   "id": "35031c2f-c327-47a2-835c-71955b56dd62",
   "metadata": {},
   "outputs": [
    {
     "name": "stdout",
     "output_type": "stream",
     "text": [
      "armstrong\n"
     ]
    }
   ],
   "source": [
    "n=153\n",
    "temp=n\n",
    "sum=0\n",
    "while(n>0):\n",
    "    rem=n%10\n",
    "    sum=sum+rem*rem*rem\n",
    "    n=n//10\n",
    "if(temp==sum):\n",
    "    print(\"armstrong\")\n",
    "else:\n",
    "    print(\"not\")\n",
    "    \n"
   ]
  },
  {
   "cell_type": "code",
   "execution_count": 73,
   "id": "4443ee1c-8634-4990-a33b-875a0027e800",
   "metadata": {},
   "outputs": [
    {
     "name": "stdout",
     "output_type": "stream",
     "text": [
      "0\n",
      "1\n",
      "1\n",
      "2\n",
      "3\n",
      "5\n",
      "8\n",
      "13\n",
      "21\n",
      "34\n"
     ]
    }
   ],
   "source": [
    "n=10\n",
    "n1=0\n",
    "n2=1\n",
    "print(n1)\n",
    "print(n2)\n",
    "for i in range(2,n):\n",
    "    \n",
    "    n3=n1+n2\n",
    "    print(n3)\n",
    "    n1=n2\n",
    "    n2=n3\n"
   ]
  },
  {
   "cell_type": "code",
   "execution_count": 75,
   "id": "d7390315-7759-42ef-b937-1a087f080426",
   "metadata": {},
   "outputs": [
    {
     "name": "stdout",
     "output_type": "stream",
     "text": [
      "y is largest\n"
     ]
    }
   ],
   "source": [
    "# largest of three numbers..\n",
    "def largest(x,y,z):\n",
    "    if(x>y and x>z):\n",
    "        print(\"x is largest\")\n",
    "    elif(y>z and y>x):\n",
    "        print(\"y is largest\")\n",
    "    else:\n",
    "        print(\"z is largest\")\n",
    "largest(3,9,7)"
   ]
  },
  {
   "cell_type": "code",
   "execution_count": 82,
   "id": "0d5f1d68-454e-4f37-a3a6-f265e2348625",
   "metadata": {},
   "outputs": [
    {
     "name": "stdout",
     "output_type": "stream",
     "text": [
      "1\n",
      "2\n",
      "Fizz\n",
      "4\n",
      "Buzz\n",
      "Fizz\n",
      "7\n",
      "8\n",
      "Fizz\n",
      "Buzz\n",
      "11\n",
      "Fizz\n",
      "13\n",
      "14\n",
      "FizzBuzz\n"
     ]
    }
   ],
   "source": [
    "def fizzbuzz(n):\n",
    "    for i in range(1,n + 1):\n",
    "        if i % 3 == 0 and i % 5 == 0:\n",
    "            print(\"FizzBuzz\")\n",
    "        elif i % 3 == 0:\n",
    "            print(\"Fizz\")\n",
    "        elif i % 5 == 0:\n",
    "            print(\"Buzz\")\n",
    "        else:\n",
    "            print(i)\n",
    "\n",
    "n = 15\n",
    "fizzbuzz(n)\n"
   ]
  },
  {
   "cell_type": "code",
   "execution_count": 86,
   "id": "2cd66ebb-4348-4908-bebe-56adf76a1b24",
   "metadata": {},
   "outputs": [
    {
     "data": {
      "text/plain": [
       "'olleh'"
      ]
     },
     "execution_count": 86,
     "metadata": {},
     "output_type": "execute_result"
    }
   ],
   "source": [
    "def reverse(s):\n",
    "    return s[::-1]\n",
    "reverse(\"hello\")\n"
   ]
  },
  {
   "cell_type": "code",
   "execution_count": 87,
   "id": "2851680e-73bc-4485-a937-eb32f2466e82",
   "metadata": {},
   "outputs": [
    {
     "name": "stdout",
     "output_type": "stream",
     "text": [
      "1\n",
      "2\n",
      "3\n",
      "4\n",
      "5\n",
      "6\n",
      "7\n",
      "8\n",
      "9\n",
      "10\n"
     ]
    }
   ],
   "source": [
    "for i in range(1,11):\n",
    "    print(i)"
   ]
  },
  {
   "cell_type": "code",
   "execution_count": 101,
   "id": "f01faafa-9304-4cd9-9bb4-e9f2741e4f44",
   "metadata": {},
   "outputs": [
    {
     "data": {
      "text/plain": [
       "[20, 30, 'shailendra']"
      ]
     },
     "execution_count": 101,
     "metadata": {},
     "output_type": "execute_result"
    }
   ],
   "source": [
    "marks=[10,20,30,\"shailendra\",70]\n",
    "marks\n",
    "type[marks]\n",
    "marks[1:-1]\n",
    "\n",
    "\n",
    "          "
   ]
  },
  {
   "cell_type": "code",
   "execution_count": 94,
   "id": "b198ddf0-5eef-4d42-ad50-0f513cdf4e7c",
   "metadata": {},
   "outputs": [],
   "source": [
    "if \"sha\" in \"shailendra\" :\n",
    "    print(\"yes\")\n",
    "\n"
   ]
  },
  {
   "cell_type": "code",
   "execution_count": 21,
   "id": "fe2959ad-bf12-40cc-aaf8-f37197bf10c2",
   "metadata": {},
   "outputs": [
    {
     "name": "stdout",
     "output_type": "stream",
     "text": [
      "3\n"
     ]
    },
    {
     "data": {
      "text/plain": [
       "[10, 20, 30, 70, 10, 20, 90, 100, 101, 202, 290]"
      ]
     },
     "execution_count": 21,
     "metadata": {},
     "output_type": "execute_result"
    }
   ],
   "source": [
    "marks=[10,20,30,70,10,20]\n",
    "print(marks.index(70))\n",
    "marks1=marks.copy()\n",
    "marks\n",
    "marks1\n",
    "marks2=[90,100,101,202,290]\n",
    "marks2\n",
    "marks3=marks+marks2\n",
    "marks3\n"
   ]
  },
  {
   "cell_type": "code",
   "execution_count": 30,
   "id": "74ed3066-d840-4082-b2a1-9753de39b698",
   "metadata": {},
   "outputs": [
    {
     "name": "stdout",
     "output_type": "stream",
     "text": [
      "hey\n"
     ]
    }
   ],
   "source": [
    "tup=(1,2,3,4,5,6,7)\n",
    "type(tup)\n",
    "tup[0]\n",
    "tup[-1]\n",
    "tup[1:5]\n",
    "if 56 in tup:\n",
    "    print(\"hello\")\n",
    "else:\n",
    "    print(\"hey\")\n"
   ]
  }
 ],
 "metadata": {
  "kernelspec": {
   "display_name": "Python 3 (ipykernel)",
   "language": "python",
   "name": "python3"
  },
  "language_info": {
   "codemirror_mode": {
    "name": "ipython",
    "version": 3
   },
   "file_extension": ".py",
   "mimetype": "text/x-python",
   "name": "python",
   "nbconvert_exporter": "python",
   "pygments_lexer": "ipython3",
   "version": "3.10.11"
  }
 },
 "nbformat": 4,
 "nbformat_minor": 5
}
