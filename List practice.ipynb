{
 "cells": [
  {
   "cell_type": "code",
   "execution_count": 9,
   "id": "8e8d7853-d679-4cc7-a091-47942cd4dcf4",
   "metadata": {},
   "outputs": [
    {
     "name": "stdout",
     "output_type": "stream",
     "text": [
      "['ABC']\n"
     ]
    }
   ],
   "source": [
    "b=[]\n",
    "for x in [10,20,30,40,50,\"ABC\"]:\n",
    "    if type(x)is str:\n",
    "        b.append(x)\n",
    "print(b)\n",
    "    "
   ]
  },
  {
   "cell_type": "code",
   "execution_count": 11,
   "id": "46c7cd30-6309-49d4-896e-e6a9b8faa6a2",
   "metadata": {},
   "outputs": [
    {
     "name": "stdout",
     "output_type": "stream",
     "text": [
      "[50, 40, 30, 20, 10]\n"
     ]
    }
   ],
   "source": [
    "mylist=[10,20,30,40,50]\n",
    "start=0\n",
    "right=len(mylist)-1\n",
    "while(start<right):\n",
    "    temp=mylist[start]\n",
    "    mylist[start]=mylist[right]\n",
    "    mylist[right]=temp\n",
    "    start+=1\n",
    "    right-=1\n",
    "print(mylist)"
   ]
  },
  {
   "cell_type": "code",
   "execution_count": 31,
   "id": "210cbe08-e02c-4700-a4fd-31cc1b4b6e91",
   "metadata": {},
   "outputs": [
    {
     "ename": "SyntaxError",
     "evalue": "invalid syntax (802772338.py, line 8)",
     "output_type": "error",
     "traceback": [
      "\u001b[1;36m  Cell \u001b[1;32mIn[31], line 8\u001b[1;36m\u001b[0m\n\u001b[1;33m    continue:\u001b[0m\n\u001b[1;37m            ^\u001b[0m\n\u001b[1;31mSyntaxError\u001b[0m\u001b[1;31m:\u001b[0m invalid syntax\n"
     ]
    }
   ],
   "source": [
    "mylist=[\"saras\"]\n",
    "start=0\n",
    "end=len(s)-1\n",
    "while start<end:\n",
    "    if mylist[start]=mylist[end]:\n",
    "        start+=1\n",
    "        end-=1\n",
    "        continue:\n",
    "    else:\n",
    "        break;\n"
   ]
  },
  {
   "cell_type": "code",
   "execution_count": 42,
   "id": "7825b168-95b0-4cf9-9ad2-28be7ed5ca10",
   "metadata": {},
   "outputs": [
    {
     "name": "stdout",
     "output_type": "stream",
     "text": [
      "0\n"
     ]
    }
   ],
   "source": [
    "list1=[2,7,1,-1,9,10,0]\n",
    "for i in range(len(list1)-1):\n",
    "    if list1[0]>=list1[i+1]:\n",
    "        list2=list1[i+1]\n",
    "print(list2)\n",
    "        \n"
   ]
  },
  {
   "cell_type": "code",
   "execution_count": 28,
   "id": "40035b06-bbea-40f7-af60-c26778a959ad",
   "metadata": {},
   "outputs": [
    {
     "ename": "SyntaxError",
     "evalue": "unmatched ']' (634840020.py, line 4)",
     "output_type": "error",
     "traceback": [
      "\u001b[1;36m  Cell \u001b[1;32mIn[28], line 4\u001b[1;36m\u001b[0m\n\u001b[1;33m    mylist[len(mylist)]-1-i]\u001b[0m\n\u001b[1;37m                           ^\u001b[0m\n\u001b[1;31mSyntaxError\u001b[0m\u001b[1;31m:\u001b[0m unmatched ']'\n"
     ]
    }
   ],
   "source": [
    "mylist=[10,20,30,40,50]\n",
    "mid=len(mylist)//2\n",
    "i=0\n",
    "mylist[len(mylist)]-1-i]\n",
    "while(i<mid):\n",
    "    mylist[i]=mylist[len(mylist)]-1-i\n",
    "print(mylist)"
   ]
  }
 ],
 "metadata": {
  "kernelspec": {
   "display_name": "Python 3 (ipykernel)",
   "language": "python",
   "name": "python3"
  },
  "language_info": {
   "codemirror_mode": {
    "name": "ipython",
    "version": 3
   },
   "file_extension": ".py",
   "mimetype": "text/x-python",
   "name": "python",
   "nbconvert_exporter": "python",
   "pygments_lexer": "ipython3",
   "version": "3.10.11"
  }
 },
 "nbformat": 4,
 "nbformat_minor": 5
}
