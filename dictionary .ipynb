{
 "cells": [
  {
   "cell_type": "code",
   "execution_count": 10,
   "id": "b247a6ad-6da4-4414-b2c0-9b12eb7f6fd0",
   "metadata": {},
   "outputs": [
    {
     "name": "stdout",
     "output_type": "stream",
     "text": [
      "[10, 30, 40]\n"
     ]
    }
   ],
   "source": [
    "mylist=[10,20,30,10,30,30,40,40]\n",
    "size1=len(mylist)\n",
    "newlist=[]\n",
    "for index in range(size1):\n",
    "    for sindex in range(index+1,size1):\n",
    "        if(mylist[index]==mylist[sindex] and mylist[index] not in newlist):\n",
    "                newlist.append(mylist[index])\n",
    "print(newlist)\n"
   ]
  },
  {
   "cell_type": "code",
   "execution_count": 21,
   "id": "20034fbe-966e-4700-aacb-945f1d4a618d",
   "metadata": {},
   "outputs": [
    {
     "data": {
      "text/plain": [
       "122"
      ]
     },
     "execution_count": 21,
     "metadata": {},
     "output_type": "execute_result"
    }
   ],
   "source": [
    "ord('z')"
   ]
  },
  {
   "cell_type": "code",
   "execution_count": 22,
   "id": "7b9c9fd4-83ad-47af-a390-4e30ed6015e5",
   "metadata": {},
   "outputs": [],
   "source": [
    "# zip -combine two \n",
    "# enumrate - find position"
   ]
  },
  {
   "cell_type": "code",
   "execution_count": 23,
   "id": "ac8ff545-3c38-4c9f-b04f-2070d989d808",
   "metadata": {},
   "outputs": [
    {
     "name": "stdout",
     "output_type": "stream",
     "text": [
      "zyx\n"
     ]
    }
   ],
   "source": [
    "list1=\"abc\"\n",
    "list2=\"zyx\"\n",
    "dictionary1=dict(zip(list1,list2))\n",
    "x=\"\"\n",
    "for i in \"abc\":\n",
    "    x=x+dictionary1[i]\n",
    "print(x)"
   ]
  },
  {
   "cell_type": "code",
   "execution_count": null,
   "id": "11d954a7-af24-4093-993a-43e32a5acee4",
   "metadata": {},
   "outputs": [],
   "source": []
  }
 ],
 "metadata": {
  "kernelspec": {
   "display_name": "Python 3 (ipykernel)",
   "language": "python",
   "name": "python3"
  },
  "language_info": {
   "codemirror_mode": {
    "name": "ipython",
    "version": 3
   },
   "file_extension": ".py",
   "mimetype": "text/x-python",
   "name": "python",
   "nbconvert_exporter": "python",
   "pygments_lexer": "ipython3",
   "version": "3.10.11"
  }
 },
 "nbformat": 4,
 "nbformat_minor": 5
}
